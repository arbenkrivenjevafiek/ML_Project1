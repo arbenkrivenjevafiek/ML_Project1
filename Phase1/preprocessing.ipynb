{
 "cells": [
  {
   "cell_type": "markdown",
   "metadata": {},
   "source": [
    "#### **Importimi i librarive*"
   ]
  },
  {
   "cell_type": "code",
   "execution_count": 2,
   "metadata": {},
   "outputs": [],
   "source": [
    "import pandas as pd\n",
    "import numpy as np\n",
    "import re\n",
    "from datetime import datetime\n",
    "import matplotlib.pyplot as plt\n",
    "import seaborn as sns\n",
    "from sklearn.preprocessing import LabelEncoder\n",
    "from sklearn.model_selection import train_test_split\n",
    "from sklearn.ensemble import RandomForestClassifier\n",
    "from sklearn.preprocessing import StandardScaler, OneHotEncoder\n",
    "from sklearn.compose import ColumnTransformer\n",
    "from sklearn.pipeline import Pipeline\n",
    "from sklearn.metrics import classification_report, accuracy_score, roc_auc_score"
   ]
  },
  {
   "cell_type": "markdown",
   "metadata": {},
   "source": [
    "#### Ngarkimi i datasetit"
   ]
  },
  {
   "cell_type": "code",
   "execution_count": 6,
   "metadata": {},
   "outputs": [],
   "source": [
    "# Ngarkimi i datasetit nga csv file per analize.\n",
    "dataset_kryesor = pd.read_csv('data/DatasetKryesor.csv', encoding='latin1')"
   ]
  },
  {
   "cell_type": "markdown",
   "metadata": {},
   "source": [
    "#### Numrimi i rreshtave dhe atributeve ne dataset"
   ]
  },
  {
   "cell_type": "code",
   "execution_count": null,
   "metadata": {},
   "outputs": [
    {
     "data": {
      "text/plain": [
       "(54161, 13)"
      ]
     },
     "execution_count": 7,
     "metadata": {},
     "output_type": "execute_result"
    }
   ],
   "source": [
    "# Dimensionet e dataset\n",
    "dataset_kryesor.shape"
   ]
  },
  {
   "cell_type": "markdown",
   "metadata": {},
   "source": [
    "#### Paraqitja e atributeve te dataset"
   ]
  },
  {
   "cell_type": "code",
   "execution_count": null,
   "metadata": {},
   "outputs": [
    {
     "data": {
      "text/plain": [
       "Index(['Spitali', 'NjesiaReparti', 'Numri', 'Shenim', 'DataRegjistrimit',\n",
       "       'Artikulli', 'ArtikulliLloji', 'RrugaMarrjes', 'Sasia', 'Cmimi',\n",
       "       'Vlera', 'OperatoriEkonomik', 'LlojiHyrjes'],\n",
       "      dtype='object')"
      ]
     },
     "execution_count": 8,
     "metadata": {},
     "output_type": "execute_result"
    }
   ],
   "source": [
    "# atributet e dataset\n",
    "dataset_kryesor.columns"
   ]
  },
  {
   "cell_type": "markdown",
   "metadata": {},
   "source": [
    "#### Rreshtat e pare te dataset"
   ]
  },
  {
   "cell_type": "code",
   "execution_count": null,
   "metadata": {},
   "outputs": [
    {
     "data": {
      "text/html": [
       "<div>\n",
       "<style scoped>\n",
       "    .dataframe tbody tr th:only-of-type {\n",
       "        vertical-align: middle;\n",
       "    }\n",
       "\n",
       "    .dataframe tbody tr th {\n",
       "        vertical-align: top;\n",
       "    }\n",
       "\n",
       "    .dataframe thead th {\n",
       "        text-align: right;\n",
       "    }\n",
       "</style>\n",
       "<table border=\"1\" class=\"dataframe\">\n",
       "  <thead>\n",
       "    <tr style=\"text-align: right;\">\n",
       "      <th></th>\n",
       "      <th>Spitali</th>\n",
       "      <th>NjesiaReparti</th>\n",
       "      <th>Numri</th>\n",
       "      <th>Shenim</th>\n",
       "      <th>DataRegjistrimit</th>\n",
       "      <th>Artikulli</th>\n",
       "      <th>ArtikulliLloji</th>\n",
       "      <th>RrugaMarrjes</th>\n",
       "      <th>Sasia</th>\n",
       "      <th>Cmimi</th>\n",
       "      <th>Vlera</th>\n",
       "      <th>OperatoriEkonomik</th>\n",
       "      <th>LlojiHyrjes</th>\n",
       "    </tr>\n",
       "  </thead>\n",
       "  <tbody>\n",
       "    <tr>\n",
       "      <th>0</th>\n",
       "      <td>Spitali 4</td>\n",
       "      <td>Njesia e Gjinekologjisë me Obstetrikë</td>\n",
       "      <td>125/2024</td>\n",
       "      <td>Dalje</td>\n",
       "      <td>2024-01-23 00:00:00.000</td>\n",
       "      <td>B05XA03 - Natrium chloride  0.9%/500ml - Solut...</td>\n",
       "      <td>Barna</td>\n",
       "      <td>INTRAVENOUS USE</td>\n",
       "      <td>20.0</td>\n",
       "      <td>0.36</td>\n",
       "      <td>7.20</td>\n",
       "      <td>OE 5</td>\n",
       "      <td>Grant qeveritar</td>\n",
       "    </tr>\n",
       "    <tr>\n",
       "      <th>1</th>\n",
       "      <td>Spitali 4</td>\n",
       "      <td>Njesia e Gjinekologjisë me Obstetrikë</td>\n",
       "      <td>297/2024</td>\n",
       "      <td>Dalje</td>\n",
       "      <td>2024-02-16 00:00:00.000</td>\n",
       "      <td>B05XA03 - Natrium chloride  0.9%/500ml - Solut...</td>\n",
       "      <td>Barna</td>\n",
       "      <td>INTRAVENOUS USE</td>\n",
       "      <td>20.0</td>\n",
       "      <td>0.36</td>\n",
       "      <td>7.20</td>\n",
       "      <td>OE 5</td>\n",
       "      <td>Grant qeveritar</td>\n",
       "    </tr>\n",
       "    <tr>\n",
       "      <th>2</th>\n",
       "      <td>Spitali 4</td>\n",
       "      <td>Njesia e Gjinekologjisë me Obstetrikë</td>\n",
       "      <td>231/2024</td>\n",
       "      <td>Dalje</td>\n",
       "      <td>2024-02-06 00:00:00.000</td>\n",
       "      <td>G02AD06 - Misoprostol 200 mcg - Tabletë</td>\n",
       "      <td>Barna</td>\n",
       "      <td>//</td>\n",
       "      <td>42.0</td>\n",
       "      <td>0.28</td>\n",
       "      <td>11.76</td>\n",
       "      <td>OE 4</td>\n",
       "      <td>Grant qeveritar</td>\n",
       "    </tr>\n",
       "    <tr>\n",
       "      <th>3</th>\n",
       "      <td>Spitali 4</td>\n",
       "      <td>Njesia e Gjinekologjisë me Obstetrikë</td>\n",
       "      <td>538/2024</td>\n",
       "      <td>Dalje</td>\n",
       "      <td>2024-03-27 00:00:00.000</td>\n",
       "      <td>G02AD06 - Misoprostol 200 mcg - Tabletë</td>\n",
       "      <td>Barna</td>\n",
       "      <td>//</td>\n",
       "      <td>42.0</td>\n",
       "      <td>0.28</td>\n",
       "      <td>11.76</td>\n",
       "      <td>OE 4</td>\n",
       "      <td>Grant qeveritar</td>\n",
       "    </tr>\n",
       "    <tr>\n",
       "      <th>4</th>\n",
       "      <td>Spitali 4</td>\n",
       "      <td>Njesia e Gjinekologjisë me Obstetrikë</td>\n",
       "      <td>779/2024</td>\n",
       "      <td>Dalje</td>\n",
       "      <td>2024-05-02 00:00:00.000</td>\n",
       "      <td>S02BA06  - Dexamethasone  4mg/ml - Ampullë</td>\n",
       "      <td>Barna</td>\n",
       "      <td>INTRAMUSCULAR AND INTRAVENOUS USE</td>\n",
       "      <td>10.0</td>\n",
       "      <td>0.09</td>\n",
       "      <td>0.90</td>\n",
       "      <td>OE 28</td>\n",
       "      <td>Grant qeveritar</td>\n",
       "    </tr>\n",
       "  </tbody>\n",
       "</table>\n",
       "</div>"
      ],
      "text/plain": [
       "     Spitali                          NjesiaReparti     Numri Shenim  \\\n",
       "0  Spitali 4  Njesia e Gjinekologjisë me Obstetrikë  125/2024  Dalje   \n",
       "1  Spitali 4  Njesia e Gjinekologjisë me Obstetrikë  297/2024  Dalje   \n",
       "2  Spitali 4  Njesia e Gjinekologjisë me Obstetrikë  231/2024  Dalje   \n",
       "3  Spitali 4  Njesia e Gjinekologjisë me Obstetrikë  538/2024  Dalje   \n",
       "4  Spitali 4  Njesia e Gjinekologjisë me Obstetrikë  779/2024  Dalje   \n",
       "\n",
       "          DataRegjistrimit                                          Artikulli  \\\n",
       "0  2024-01-23 00:00:00.000  B05XA03 - Natrium chloride  0.9%/500ml - Solut...   \n",
       "1  2024-02-16 00:00:00.000  B05XA03 - Natrium chloride  0.9%/500ml - Solut...   \n",
       "2  2024-02-06 00:00:00.000            G02AD06 - Misoprostol 200 mcg - Tabletë   \n",
       "3  2024-03-27 00:00:00.000            G02AD06 - Misoprostol 200 mcg - Tabletë   \n",
       "4  2024-05-02 00:00:00.000         S02BA06  - Dexamethasone  4mg/ml - Ampullë   \n",
       "\n",
       "  ArtikulliLloji                       RrugaMarrjes  Sasia  Cmimi  Vlera  \\\n",
       "0          Barna                    INTRAVENOUS USE   20.0   0.36   7.20   \n",
       "1          Barna                    INTRAVENOUS USE   20.0   0.36   7.20   \n",
       "2          Barna                                 //   42.0   0.28  11.76   \n",
       "3          Barna                                 //   42.0   0.28  11.76   \n",
       "4          Barna  INTRAMUSCULAR AND INTRAVENOUS USE   10.0   0.09   0.90   \n",
       "\n",
       "  OperatoriEkonomik      LlojiHyrjes  \n",
       "0              OE 5  Grant qeveritar  \n",
       "1              OE 5  Grant qeveritar  \n",
       "2              OE 4  Grant qeveritar  \n",
       "3              OE 4  Grant qeveritar  \n",
       "4             OE 28  Grant qeveritar  "
      ]
     },
     "execution_count": 9,
     "metadata": {},
     "output_type": "execute_result"
    }
   ],
   "source": [
    "# Paraqitja e pese rreshtave te pare te dataset\n",
    "dataset_kryesor.head()"
   ]
  },
  {
   "cell_type": "markdown",
   "metadata": {},
   "source": [
    "### Tipet e te dhenave per atribute"
   ]
  },
  {
   "cell_type": "code",
   "execution_count": 10,
   "metadata": {},
   "outputs": [
    {
     "name": "stdout",
     "output_type": "stream",
     "text": [
      "<class 'pandas.core.frame.DataFrame'>\n",
      "RangeIndex: 54161 entries, 0 to 54160\n",
      "Data columns (total 13 columns):\n",
      " #   Column             Non-Null Count  Dtype  \n",
      "---  ------             --------------  -----  \n",
      " 0   Spitali            54161 non-null  object \n",
      " 1   NjesiaReparti      54161 non-null  object \n",
      " 2   Numri              54161 non-null  object \n",
      " 3   Shenim             54161 non-null  object \n",
      " 4   DataRegjistrimit   54161 non-null  object \n",
      " 5   Artikulli          54160 non-null  object \n",
      " 6   ArtikulliLloji     54161 non-null  object \n",
      " 7   RrugaMarrjes       54161 non-null  object \n",
      " 8   Sasia              54128 non-null  float64\n",
      " 9   Cmimi              54128 non-null  float64\n",
      " 10  Vlera              54131 non-null  float64\n",
      " 11  OperatoriEkonomik  54161 non-null  object \n",
      " 12  LlojiHyrjes        54161 non-null  object \n",
      "dtypes: float64(3), object(10)\n",
      "memory usage: 5.4+ MB\n"
     ]
    }
   ],
   "source": [
    "# Tipet e te dhenave\n",
    "dataset_kryesor.info()"
   ]
  },
  {
   "cell_type": "markdown",
   "metadata": {},
   "source": [
    "#### Vlerat NULL"
   ]
  },
  {
   "cell_type": "code",
   "execution_count": 11,
   "metadata": {},
   "outputs": [
    {
     "name": "stdout",
     "output_type": "stream",
     "text": [
      "Missing data in each column:\n",
      "Spitali               0\n",
      "NjesiaReparti         0\n",
      "Numri                 0\n",
      "Shenim                0\n",
      "DataRegjistrimit      0\n",
      "Artikulli             1\n",
      "ArtikulliLloji        0\n",
      "RrugaMarrjes          0\n",
      "Sasia                33\n",
      "Cmimi                33\n",
      "Vlera                30\n",
      "OperatoriEkonomik     0\n",
      "LlojiHyrjes           0\n",
      "dtype: int64\n"
     ]
    }
   ],
   "source": [
    "# Checking for missing data in all columns\n",
    "missing_data = dataset_kryesor.isnull().sum()\n",
    "\n",
    "print(\"Missing data in each column:\")\n",
    "print(missing_data)"
   ]
  }
 ],
 "metadata": {
  "kernelspec": {
   "display_name": "Python 3",
   "language": "python",
   "name": "python3"
  },
  "language_info": {
   "codemirror_mode": {
    "name": "ipython",
    "version": 3
   },
   "file_extension": ".py",
   "mimetype": "text/x-python",
   "name": "python",
   "nbconvert_exporter": "python",
   "pygments_lexer": "ipython3",
   "version": "3.13.2"
  }
 },
 "nbformat": 4,
 "nbformat_minor": 2
}
