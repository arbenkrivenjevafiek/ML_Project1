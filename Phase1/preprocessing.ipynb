{
 "cells": [
  {
   "cell_type": "markdown",
   "metadata": {},
   "source": [
    "#### **Importimi i librarive*"
   ]
  },
  {
   "cell_type": "code",
   "execution_count": null,
   "metadata": {},
   "outputs": [],
   "source": [
    "#!pip install missingno"
   ]
  },
  {
   "cell_type": "code",
   "execution_count": 1,
   "metadata": {},
   "outputs": [],
   "source": [
    "import pandas as pd\n",
    "import numpy as np\n",
    "import re\n",
    "from datetime import datetime\n",
    "import matplotlib.pyplot as plt\n",
    "import seaborn as sns\n",
    "from sklearn.preprocessing import LabelEncoder\n",
    "from sklearn.model_selection import train_test_split\n",
    "from sklearn.ensemble import RandomForestClassifier\n",
    "from sklearn.preprocessing import StandardScaler, OneHotEncoder\n",
    "from sklearn.compose import ColumnTransformer\n",
    "from sklearn.pipeline import Pipeline\n",
    "from sklearn.metrics import classification_report, accuracy_score, roc_auc_score\n",
    "import missingno as msno"
   ]
  },
  {
   "cell_type": "markdown",
   "metadata": {},
   "source": [
    "#### Ngarkimi i datasetit"
   ]
  },
  {
   "cell_type": "code",
   "execution_count": 2,
   "metadata": {},
   "outputs": [],
   "source": [
    "# Ngarkimi i datasetit nga csv file per analize.\n",
    "dataset_kryesor = pd.read_csv('data/DatasetKryesor.csv', encoding='latin1')"
   ]
  },
  {
   "cell_type": "markdown",
   "metadata": {},
   "source": [
    "#### Numrimi i rreshtave dhe atributeve ne dataset"
   ]
  },
  {
   "cell_type": "code",
   "execution_count": 3,
   "metadata": {},
   "outputs": [
    {
     "data": {
      "text/plain": [
       "(54161, 13)"
      ]
     },
     "execution_count": 3,
     "metadata": {},
     "output_type": "execute_result"
    }
   ],
   "source": [
    "# Dimensionet e dataset\n",
    "dataset_kryesor.shape"
   ]
  },
  {
   "cell_type": "markdown",
   "metadata": {},
   "source": [
    "#### Paraqitja e atributeve te dataset"
   ]
  },
  {
   "cell_type": "code",
   "execution_count": 4,
   "metadata": {},
   "outputs": [
    {
     "data": {
      "text/plain": [
       "Index(['Spitali', 'NjesiaReparti', 'Numri', 'Shenim', 'DataRegjistrimit',\n",
       "       'Artikulli', 'ArtikulliLloji', 'RrugaMarrjes', 'Sasia', 'Cmimi',\n",
       "       'Vlera', 'OperatoriEkonomik', 'LlojiHyrjes'],\n",
       "      dtype='object')"
      ]
     },
     "execution_count": 4,
     "metadata": {},
     "output_type": "execute_result"
    }
   ],
   "source": [
    "# atributet e dataset\n",
    "dataset_kryesor.columns"
   ]
  },
  {
   "cell_type": "markdown",
   "metadata": {},
   "source": [
    "#### Rreshtat e pare te dataset"
   ]
  },
  {
   "cell_type": "code",
   "execution_count": 5,
   "metadata": {},
   "outputs": [
    {
     "data": {
      "text/html": [
       "<div>\n",
       "<style scoped>\n",
       "    .dataframe tbody tr th:only-of-type {\n",
       "        vertical-align: middle;\n",
       "    }\n",
       "\n",
       "    .dataframe tbody tr th {\n",
       "        vertical-align: top;\n",
       "    }\n",
       "\n",
       "    .dataframe thead th {\n",
       "        text-align: right;\n",
       "    }\n",
       "</style>\n",
       "<table border=\"1\" class=\"dataframe\">\n",
       "  <thead>\n",
       "    <tr style=\"text-align: right;\">\n",
       "      <th></th>\n",
       "      <th>Spitali</th>\n",
       "      <th>NjesiaReparti</th>\n",
       "      <th>Numri</th>\n",
       "      <th>Shenim</th>\n",
       "      <th>DataRegjistrimit</th>\n",
       "      <th>Artikulli</th>\n",
       "      <th>ArtikulliLloji</th>\n",
       "      <th>RrugaMarrjes</th>\n",
       "      <th>Sasia</th>\n",
       "      <th>Cmimi</th>\n",
       "      <th>Vlera</th>\n",
       "      <th>OperatoriEkonomik</th>\n",
       "      <th>LlojiHyrjes</th>\n",
       "    </tr>\n",
       "  </thead>\n",
       "  <tbody>\n",
       "    <tr>\n",
       "      <th>0</th>\n",
       "      <td>Spitali 4</td>\n",
       "      <td>Njesia e Gjinekologjisë me Obstetrikë</td>\n",
       "      <td>125/2024</td>\n",
       "      <td>Dalje</td>\n",
       "      <td>2024-01-23 00:00:00.000</td>\n",
       "      <td>B05XA03 - Natrium chloride  0.9%/500ml - Solut...</td>\n",
       "      <td>Barna</td>\n",
       "      <td>INTRAVENOUS USE</td>\n",
       "      <td>20.0</td>\n",
       "      <td>0.36</td>\n",
       "      <td>7.20</td>\n",
       "      <td>OE 5</td>\n",
       "      <td>Grant qeveritar</td>\n",
       "    </tr>\n",
       "    <tr>\n",
       "      <th>1</th>\n",
       "      <td>Spitali 4</td>\n",
       "      <td>Njesia e Gjinekologjisë me Obstetrikë</td>\n",
       "      <td>297/2024</td>\n",
       "      <td>Dalje</td>\n",
       "      <td>2024-02-16 00:00:00.000</td>\n",
       "      <td>B05XA03 - Natrium chloride  0.9%/500ml - Solut...</td>\n",
       "      <td>Barna</td>\n",
       "      <td>INTRAVENOUS USE</td>\n",
       "      <td>20.0</td>\n",
       "      <td>0.36</td>\n",
       "      <td>7.20</td>\n",
       "      <td>OE 5</td>\n",
       "      <td>Grant qeveritar</td>\n",
       "    </tr>\n",
       "    <tr>\n",
       "      <th>2</th>\n",
       "      <td>Spitali 4</td>\n",
       "      <td>Njesia e Gjinekologjisë me Obstetrikë</td>\n",
       "      <td>231/2024</td>\n",
       "      <td>Dalje</td>\n",
       "      <td>2024-02-06 00:00:00.000</td>\n",
       "      <td>G02AD06 - Misoprostol 200 mcg - Tabletë</td>\n",
       "      <td>Barna</td>\n",
       "      <td>//</td>\n",
       "      <td>42.0</td>\n",
       "      <td>0.28</td>\n",
       "      <td>11.76</td>\n",
       "      <td>OE 4</td>\n",
       "      <td>Grant qeveritar</td>\n",
       "    </tr>\n",
       "    <tr>\n",
       "      <th>3</th>\n",
       "      <td>Spitali 4</td>\n",
       "      <td>Njesia e Gjinekologjisë me Obstetrikë</td>\n",
       "      <td>538/2024</td>\n",
       "      <td>Dalje</td>\n",
       "      <td>2024-03-27 00:00:00.000</td>\n",
       "      <td>G02AD06 - Misoprostol 200 mcg - Tabletë</td>\n",
       "      <td>Barna</td>\n",
       "      <td>//</td>\n",
       "      <td>42.0</td>\n",
       "      <td>0.28</td>\n",
       "      <td>11.76</td>\n",
       "      <td>OE 4</td>\n",
       "      <td>Grant qeveritar</td>\n",
       "    </tr>\n",
       "    <tr>\n",
       "      <th>4</th>\n",
       "      <td>Spitali 4</td>\n",
       "      <td>Njesia e Gjinekologjisë me Obstetrikë</td>\n",
       "      <td>779/2024</td>\n",
       "      <td>Dalje</td>\n",
       "      <td>2024-05-02 00:00:00.000</td>\n",
       "      <td>S02BA06  - Dexamethasone  4mg/ml - Ampullë</td>\n",
       "      <td>Barna</td>\n",
       "      <td>INTRAMUSCULAR AND INTRAVENOUS USE</td>\n",
       "      <td>10.0</td>\n",
       "      <td>0.09</td>\n",
       "      <td>0.90</td>\n",
       "      <td>OE 28</td>\n",
       "      <td>Grant qeveritar</td>\n",
       "    </tr>\n",
       "  </tbody>\n",
       "</table>\n",
       "</div>"
      ],
      "text/plain": [
       "     Spitali                          NjesiaReparti     Numri Shenim  \\\n",
       "0  Spitali 4  Njesia e Gjinekologjisë me Obstetrikë  125/2024  Dalje   \n",
       "1  Spitali 4  Njesia e Gjinekologjisë me Obstetrikë  297/2024  Dalje   \n",
       "2  Spitali 4  Njesia e Gjinekologjisë me Obstetrikë  231/2024  Dalje   \n",
       "3  Spitali 4  Njesia e Gjinekologjisë me Obstetrikë  538/2024  Dalje   \n",
       "4  Spitali 4  Njesia e Gjinekologjisë me Obstetrikë  779/2024  Dalje   \n",
       "\n",
       "          DataRegjistrimit                                          Artikulli  \\\n",
       "0  2024-01-23 00:00:00.000  B05XA03 - Natrium chloride  0.9%/500ml - Solut...   \n",
       "1  2024-02-16 00:00:00.000  B05XA03 - Natrium chloride  0.9%/500ml - Solut...   \n",
       "2  2024-02-06 00:00:00.000            G02AD06 - Misoprostol 200 mcg - Tabletë   \n",
       "3  2024-03-27 00:00:00.000            G02AD06 - Misoprostol 200 mcg - Tabletë   \n",
       "4  2024-05-02 00:00:00.000         S02BA06  - Dexamethasone  4mg/ml - Ampullë   \n",
       "\n",
       "  ArtikulliLloji                       RrugaMarrjes  Sasia  Cmimi  Vlera  \\\n",
       "0          Barna                    INTRAVENOUS USE   20.0   0.36   7.20   \n",
       "1          Barna                    INTRAVENOUS USE   20.0   0.36   7.20   \n",
       "2          Barna                                 //   42.0   0.28  11.76   \n",
       "3          Barna                                 //   42.0   0.28  11.76   \n",
       "4          Barna  INTRAMUSCULAR AND INTRAVENOUS USE   10.0   0.09   0.90   \n",
       "\n",
       "  OperatoriEkonomik      LlojiHyrjes  \n",
       "0              OE 5  Grant qeveritar  \n",
       "1              OE 5  Grant qeveritar  \n",
       "2              OE 4  Grant qeveritar  \n",
       "3              OE 4  Grant qeveritar  \n",
       "4             OE 28  Grant qeveritar  "
      ]
     },
     "execution_count": 5,
     "metadata": {},
     "output_type": "execute_result"
    }
   ],
   "source": [
    "# Paraqitja e pese rreshtave te pare te dataset\n",
    "dataset_kryesor.head()"
   ]
  },
  {
   "cell_type": "markdown",
   "metadata": {},
   "source": [
    "### Tipet e te dhenave per atribute"
   ]
  },
  {
   "cell_type": "code",
   "execution_count": 6,
   "metadata": {},
   "outputs": [
    {
     "name": "stdout",
     "output_type": "stream",
     "text": [
      "<class 'pandas.core.frame.DataFrame'>\n",
      "RangeIndex: 54161 entries, 0 to 54160\n",
      "Data columns (total 13 columns):\n",
      " #   Column             Non-Null Count  Dtype  \n",
      "---  ------             --------------  -----  \n",
      " 0   Spitali            54161 non-null  object \n",
      " 1   NjesiaReparti      54161 non-null  object \n",
      " 2   Numri              54161 non-null  object \n",
      " 3   Shenim             54161 non-null  object \n",
      " 4   DataRegjistrimit   54161 non-null  object \n",
      " 5   Artikulli          54160 non-null  object \n",
      " 6   ArtikulliLloji     54161 non-null  object \n",
      " 7   RrugaMarrjes       54161 non-null  object \n",
      " 8   Sasia              54128 non-null  float64\n",
      " 9   Cmimi              54128 non-null  float64\n",
      " 10  Vlera              54131 non-null  float64\n",
      " 11  OperatoriEkonomik  54161 non-null  object \n",
      " 12  LlojiHyrjes        54161 non-null  object \n",
      "dtypes: float64(3), object(10)\n",
      "memory usage: 5.4+ MB\n"
     ]
    }
   ],
   "source": [
    "# Tipet e te dhenave\n",
    "dataset_kryesor.info()"
   ]
  },
  {
   "cell_type": "markdown",
   "metadata": {},
   "source": [
    "#### Paraqitja e kolonave me Vlerat NULL"
   ]
  },
  {
   "cell_type": "code",
   "execution_count": 7,
   "metadata": {},
   "outputs": [
    {
     "name": "stdout",
     "output_type": "stream",
     "text": [
      "Missing data in each column:\n",
      "Spitali               0\n",
      "NjesiaReparti         0\n",
      "Numri                 0\n",
      "Shenim                0\n",
      "DataRegjistrimit      0\n",
      "Artikulli             1\n",
      "ArtikulliLloji        0\n",
      "RrugaMarrjes          0\n",
      "Sasia                33\n",
      "Cmimi                33\n",
      "Vlera                30\n",
      "OperatoriEkonomik     0\n",
      "LlojiHyrjes           0\n",
      "dtype: int64\n"
     ]
    }
   ],
   "source": [
    "# Checking for missing data in all columns\n",
    "missing_data = dataset_kryesor.isnull().sum()\n",
    "\n",
    "print(\"Missing data in each column:\")\n",
    "print(missing_data)"
   ]
  },
  {
   "cell_type": "markdown",
   "metadata": {},
   "source": [
    "### Kontrollimi i vlerave unike për secilin atribut (shumë e dobishme për variabla kategorike)"
   ]
  },
  {
   "cell_type": "code",
   "execution_count": 8,
   "metadata": {},
   "outputs": [
    {
     "name": "stdout",
     "output_type": "stream",
     "text": [
      "Atributi \"Spitali\" ka 8 vlera unike.\n",
      "Atributi \"NjesiaReparti\" ka 36 vlera unike.\n",
      "Atributi \"Numri\" ka 5622 vlera unike.\n",
      "Atributi \"Shenim\" ka 169 vlera unike.\n",
      "Atributi \"DataRegjistrimit\" ka 274 vlera unike.\n",
      "Atributi \"Artikulli\" ka 1063 vlera unike.\n",
      "Atributi \"ArtikulliLloji\" ka 3 vlera unike.\n",
      "Atributi \"RrugaMarrjes\" ka 22 vlera unike.\n",
      "Atributi \"Sasia\" ka 1138 vlera unike.\n",
      "Atributi \"Cmimi\" ka 883 vlera unike.\n",
      "Atributi \"Vlera\" ka 5338 vlera unike.\n",
      "Atributi \"OperatoriEkonomik\" ka 67 vlera unike.\n",
      "Atributi \"LlojiHyrjes\" ka 5 vlera unike.\n"
     ]
    }
   ],
   "source": [
    "for col in dataset_kryesor.columns:\n",
    "    unique_values = dataset_kryesor[col].nunique()\n",
    "    print(f'Atributi \"{col}\" ka {unique_values} vlera unike.')"
   ]
  },
  {
   "cell_type": "markdown",
   "metadata": {},
   "source": [
    "### Shikimi i statistikave për kolonat numerike (me .describe())"
   ]
  },
  {
   "cell_type": "code",
   "execution_count": 9,
   "metadata": {},
   "outputs": [
    {
     "name": "stdout",
     "output_type": "stream",
     "text": [
      "Statistikat për kolonat kategorike:\n",
      "          Spitali        NjesiaReparti      Numri Shenim  \\\n",
      "count       54161                54161      54161  54161   \n",
      "unique          8                   36       5622    169   \n",
      "top     Spitali 1  Njesia e Kirurgjisë  1512/2024  Dalje   \n",
      "freq        14888                 7304         78  52251   \n",
      "\n",
      "               DataRegjistrimit  \\\n",
      "count                     54161   \n",
      "unique                      274   \n",
      "top     2024-12-26 00:00:00.000   \n",
      "freq                        392   \n",
      "\n",
      "                                                Artikulli ArtikulliLloji  \\\n",
      "count                                               54160          54161   \n",
      "unique                                               1063              3   \n",
      "top     B05XA03 - Natrium chloride  0.9%/100ml - Solut...          Barna   \n",
      "freq                                                 1806          50085   \n",
      "\n",
      "       RrugaMarrjes OperatoriEkonomik      LlojiHyrjes  \n",
      "count         54161             54161            54161  \n",
      "unique           22                67                5  \n",
      "top              //              OE 5  Grant qeveritar  \n",
      "freq          23483              7842            49952  \n"
     ]
    }
   ],
   "source": [
    "print(\"Statistikat për kolonat kategorike:\")\n",
    "print(dataset_kryesor.describe(include=['O']))  # 'O' qëndron për 'Object' (teksti)"
   ]
  },
  {
   "cell_type": "markdown",
   "metadata": {},
   "source": [
    "### Identifikimi i kolonave kategorike dhe numerike (automatikisht)"
   ]
  },
  {
   "cell_type": "code",
   "execution_count": 10,
   "metadata": {},
   "outputs": [
    {
     "name": "stdout",
     "output_type": "stream",
     "text": [
      "Kolonat kategorike: Index(['Spitali', 'NjesiaReparti', 'Numri', 'Shenim', 'DataRegjistrimit',\n",
      "       'Artikulli', 'ArtikulliLloji', 'RrugaMarrjes', 'OperatoriEkonomik',\n",
      "       'LlojiHyrjes'],\n",
      "      dtype='object')\n",
      "Kolonat numerike: Index(['Sasia', 'Cmimi', 'Vlera'], dtype='object')\n"
     ]
    }
   ],
   "source": [
    "kategorike = dataset_kryesor.select_dtypes(include=['object']).columns\n",
    "numerike = dataset_kryesor.select_dtypes(include=['int64', 'float64']).columns\n",
    "\n",
    "print(\"Kolonat kategorike:\", kategorike)\n",
    "print(\"Kolonat numerike:\", numerike)"
   ]
  },
  {
   "cell_type": "markdown",
   "metadata": {},
   "source": [
    "### Analiza e shpërndarjes për kolonën \"Spitali\""
   ]
  },
  {
   "cell_type": "code",
   "execution_count": 11,
   "metadata": {},
   "outputs": [
    {
     "data": {
      "text/plain": [
       "Spitali\n",
       "Spitali 1    14888\n",
       "Spitali 2     3252\n",
       "Spitali 3     8316\n",
       "Spitali 4    10018\n",
       "Spitali 5     1782\n",
       "Spitali 6     4379\n",
       "Spitali 7    10002\n",
       "Spitali 8     1524\n",
       "Name: count, dtype: int64"
      ]
     },
     "execution_count": 11,
     "metadata": {},
     "output_type": "execute_result"
    }
   ],
   "source": [
    "dataset_kryesor['Spitali'].value_counts().sort_index()"
   ]
  },
  {
   "cell_type": "markdown",
   "metadata": {},
   "source": [
    "#### Analiza e shpërndarjes për kolonën \"NjesiaReparti\""
   ]
  },
  {
   "cell_type": "code",
   "execution_count": 12,
   "metadata": {},
   "outputs": [
    {
     "data": {
      "text/plain": [
       "NjesiaReparti\n",
       "Njesia e Alergologjisë dhe Imunologjisë             95\n",
       "Njesia e Ambulancës Specialistike                  208\n",
       "Njesia e Anestezeologjisë                         1687\n",
       "Njesia e Anesteziologjisë dhe Emergjencës         1503\n",
       "Njesia e Biokimisë Mjekësore                      1281\n",
       "Njesia e Dermatologjisë                            123\n",
       "Njesia e Emergjencës                              5531\n",
       "Njesia e Fizioterapisë                              26\n",
       "Njesia e Gjinekologjisë me Obstetrikë             4275\n",
       "Njesia e Hemodializës                             2067\n",
       "Njesia e Infektivës                               1925\n",
       "Njesia e Internos                                 6785\n",
       "Njesia e Kirurgjisë                               7304\n",
       "Njesia e Kujdesit Intenziv                        3454\n",
       "Njesia e Mjekësisë Nukleare                        124\n",
       "Njesia e Mjekësisë së Punës                         13\n",
       "Njesia e Neonatologjisë                            943\n",
       "Njesia e Neurologjisë                             1503\n",
       "Njesia e Neurologjisë dhe Psikiatrisë              727\n",
       "Njesia e ORL-së                                    544\n",
       "Njesia e Oftalmologjisë                            902\n",
       "Njesia e Onkologjisë                              1905\n",
       "Njesia e Ortopedisë                               1863\n",
       "Njesia e Patofiziologjisë                            2\n",
       "Njesia e Patologjisë                               134\n",
       "Njesia e Pediatrisë                               2903\n",
       "Njesia e Psikiatrisë                               925\n",
       "Njesia e Pulmologjisë                             1859\n",
       "Njesia e Pulmologjisë dhe Dermatovenerologjisë     737\n",
       "Njesia e Radiologjisë                              193\n",
       "Njesia e Shëndetit Mendor                           65\n",
       "Njesia e Shërbimeve Teknike                       1422\n",
       "Njesia e Sterilizimit                                2\n",
       "Njesia e Stomatologjisë                              9\n",
       "Njesia e Transfuzionit të Gjakut                    19\n",
       "Njesia e Urologjisë                               1103\n",
       "Name: count, dtype: int64"
      ]
     },
     "execution_count": 12,
     "metadata": {},
     "output_type": "execute_result"
    }
   ],
   "source": [
    "dataset_kryesor['NjesiaReparti'].value_counts().sort_index()"
   ]
  },
  {
   "cell_type": "markdown",
   "metadata": {},
   "source": [
    "#### Analiza e shpërndarjes për kolonën \"Artikulli\""
   ]
  },
  {
   "cell_type": "code",
   "execution_count": 13,
   "metadata": {},
   "outputs": [
    {
     "data": {
      "text/plain": [
       "Artikulli\n",
       "B05XA03 - Natrium chloride  0.9%/100ml - Solution for infusion                                                              1806\n",
       "B05AA01 - Human Albumin 20%/50ml - Solution for infusion                                                                    1710\n",
       "B05XA03 - Natrium chloride  0.9% 500 ml izotonik - Solution for infusion                                                    1600\n",
       "J01DD04 - ceftriaxone 1g - Pluhur për injeksion                                                                             1564\n",
       "B01AB - Enoxaparin 40mg/0.4ml - Injeksion                                                                                   1402\n",
       "                                                                                                                            ... \n",
       "RG665 - Assay dilution cups for Vidas 3 44 pcs - Other                                                                         1\n",
       "RG39 - LDH 6X24+4X9ml - Kit                                                                                                    1\n",
       "RG678 - Imunochromatographic rapid test for detection of Giardia, E.hystolitica+Cryptosporidium pack of 30 tests - Other       1\n",
       "RG840 - Serachem Level 2 Control Kit 12x5ml - Kit                                                                              1\n",
       "RG839 - Serachem Level 1 Control Kit 12x5ml - Kit                                                                              1\n",
       "Name: count, Length: 1063, dtype: int64"
      ]
     },
     "execution_count": 13,
     "metadata": {},
     "output_type": "execute_result"
    }
   ],
   "source": [
    "dataset_kryesor['Artikulli'].value_counts()"
   ]
  },
  {
   "cell_type": "markdown",
   "metadata": {},
   "source": [
    "#### Analiza e shpërndarjes për kolonën \"ArtikulliLloji\""
   ]
  },
  {
   "cell_type": "code",
   "execution_count": 14,
   "metadata": {},
   "outputs": [
    {
     "data": {
      "text/plain": [
       "ArtikulliLloji\n",
       "Barna          50085\n",
       "Reagenc         2613\n",
       "Citostatikë     1463\n",
       "Name: count, dtype: int64"
      ]
     },
     "execution_count": 14,
     "metadata": {},
     "output_type": "execute_result"
    }
   ],
   "source": [
    "dataset_kryesor['ArtikulliLloji'].value_counts()"
   ]
  },
  {
   "cell_type": "markdown",
   "metadata": {},
   "source": [
    "#### Analiza e shpërndarjes për kolonën \"OperatoriEkonomik\""
   ]
  },
  {
   "cell_type": "code",
   "execution_count": 15,
   "metadata": {},
   "outputs": [
    {
     "data": {
      "text/plain": [
       "OperatoriEkonomik\n",
       "OE 5     7842\n",
       "OE 6     5323\n",
       "OE 64    5254\n",
       "OE 28    4180\n",
       "OE 8     3598\n",
       "         ... \n",
       "OE 33      10\n",
       "OE 15       8\n",
       "OE 65       8\n",
       "OE 27       7\n",
       "OE 67       1\n",
       "Name: count, Length: 67, dtype: int64"
      ]
     },
     "execution_count": 15,
     "metadata": {},
     "output_type": "execute_result"
    }
   ],
   "source": [
    "dataset_kryesor['OperatoriEkonomik'].value_counts()"
   ]
  },
  {
   "cell_type": "markdown",
   "metadata": {},
   "source": [
    "#### Analiza e shpërndarjes për kolonën \"LlojiHyrjes\""
   ]
  },
  {
   "cell_type": "code",
   "execution_count": 16,
   "metadata": {},
   "outputs": [
    {
     "data": {
      "text/plain": [
       "LlojiHyrjes\n",
       "Grant qeveritar           49952\n",
       "Hyrje vetanake             2184\n",
       "Hyrje Vetanake              699\n",
       "Para te gatshme (Cash)      694\n",
       "Donacion                    632\n",
       "Name: count, dtype: int64"
      ]
     },
     "execution_count": 16,
     "metadata": {},
     "output_type": "execute_result"
    }
   ],
   "source": [
    "dataset_kryesor['LlojiHyrjes'].value_counts()"
   ]
  },
  {
   "cell_type": "markdown",
   "metadata": {},
   "source": [
    "#### Konvertimi i Dates se regjistrimit ne format datetime short"
   ]
  },
  {
   "cell_type": "code",
   "execution_count": 17,
   "metadata": {},
   "outputs": [
    {
     "name": "stdout",
     "output_type": "stream",
     "text": [
      "      DataRegjistrimit\n",
      "0           2024-01-23\n",
      "1           2024-02-16\n",
      "2           2024-02-06\n",
      "3           2024-03-27\n",
      "4           2024-05-02\n",
      "...                ...\n",
      "54156       2024-08-02\n",
      "54157       2024-09-16\n",
      "54158       2024-08-23\n",
      "54159       2024-09-16\n",
      "54160       2024-08-23\n",
      "\n",
      "[54161 rows x 1 columns]\n"
     ]
    }
   ],
   "source": [
    "dataset_kryesor['DataRegjistrimit'] = pd.to_datetime(dataset_kryesor['DataRegjistrimit'])\n",
    "current_date = datetime(2024, 1, 1)\n",
    "print(dataset_kryesor[['DataRegjistrimit']])"
   ]
  },
  {
   "cell_type": "markdown",
   "metadata": {},
   "source": [
    "### Kontrollimi i vlerave të pazakonta (outliers) për kolonat numerike (me boxplot)"
   ]
  },
  {
   "cell_type": "code",
   "execution_count": 18,
   "metadata": {},
   "outputs": [
    {
     "data": {
      "image/png": "[encoded data removed]",
      "text/plain": [
       "<Figure size 640x480 with 1 Axes>"
      ]
     },
     "metadata": {},
     "output_type": "display_data"
    },
    {
     "data": {
      "image/png": "[encoded data removed]",
      "text/plain": [
       "<Figure size 640x480 with 1 Axes>"
      ]
     },
     "metadata": {},
     "output_type": "display_data"
    },
    {
     "data": {
      "image/png": "[encoded data removed]",
      "text/plain": [
       "<Figure size 640x480 with 1 Axes>"
      ]
     },
     "metadata": {},
     "output_type": "display_data"
    }
   ],
   "source": [
    "for col in numerike:\n",
    "    plt.figure()\n",
    "    sns.boxplot(x=dataset_kryesor[col])\n",
    "    plt.title(f'Shpërndarja e {col}')\n",
    "    plt.show()\n"
   ]
  },
  {
   "cell_type": "markdown",
   "metadata": {},
   "source": [
    "#### Fshirja e rreshtave me NULL te kolona Artikulli"
   ]
  },
  {
   "cell_type": "code",
   "execution_count": null,
   "metadata": {},
   "outputs": [
    {
     "data": {
      "text/plain": [
       "(54128, 13)"
      ]
     },
     "execution_count": 30,
     "metadata": {},
     "output_type": "execute_result"
    }
   ],
   "source": [
    "datasets = {\n",
    "    'dataset_kryesor': dataset_kryesor\n",
    "}\n",
    "\n",
    "# Emrat e kolonave të ID-ve për çdo dataset\n",
    "id_columns = {\n",
    "    'dataset_kryesor': 'Artikulli'\n",
    "}\n",
    "\n",
    "for name, df in datasets.items():\n",
    "    id_col = id_columns[name]\n",
    "    # Fshij rreshtat me null\n",
    "    cleaned_df = df[(df[id_col] != 0) & (df[id_col].notnull())]\n",
    "    datasets[name] = cleaned_df\n",
    "\n",
    "# Tani mund të aksesosh datasetet e pastra\n",
    "dataset_kryesor = datasets['dataset_kryesor']\n",
    "\n",
    "display(dataset_kryesor)\n",
    "\n",
    "dataset_kryesor.shape"
   ]
  },
  {
   "cell_type": "markdown",
   "metadata": {},
   "source": [
    "#### Fshirja e rreshtave me NULL te kolona Sasia, Çmimi dhe Vlera"
   ]
  },
  {
   "cell_type": "code",
   "execution_count": 33,
   "metadata": {},
   "outputs": [
    {
     "data": {
      "text/html": [
       "<div>\n",
       "<style scoped>\n",
       "    .dataframe tbody tr th:only-of-type {\n",
       "        vertical-align: middle;\n",
       "    }\n",
       "\n",
       "    .dataframe tbody tr th {\n",
       "        vertical-align: top;\n",
       "    }\n",
       "\n",
       "    .dataframe thead th {\n",
       "        text-align: right;\n",
       "    }\n",
       "</style>\n",
       "<table border=\"1\" class=\"dataframe\">\n",
       "  <thead>\n",
       "    <tr style=\"text-align: right;\">\n",
       "      <th></th>\n",
       "      <th>Spitali</th>\n",
       "      <th>NjesiaReparti</th>\n",
       "      <th>Numri</th>\n",
       "      <th>Shenim</th>\n",
       "      <th>DataRegjistrimit</th>\n",
       "      <th>Artikulli</th>\n",
       "      <th>ArtikulliLloji</th>\n",
       "      <th>RrugaMarrjes</th>\n",
       "      <th>Sasia</th>\n",
       "      <th>Cmimi</th>\n",
       "      <th>Vlera</th>\n",
       "      <th>OperatoriEkonomik</th>\n",
       "      <th>LlojiHyrjes</th>\n",
       "    </tr>\n",
       "  </thead>\n",
       "  <tbody>\n",
       "    <tr>\n",
       "      <th>0</th>\n",
       "      <td>Spitali 4</td>\n",
       "      <td>Njesia e Gjinekologjisë me Obstetrikë</td>\n",
       "      <td>125/2024</td>\n",
       "      <td>Dalje</td>\n",
       "      <td>2024-01-23</td>\n",
       "      <td>B05XA03 - Natrium chloride  0.9%/500ml - Solut...</td>\n",
       "      <td>Barna</td>\n",
       "      <td>INTRAVENOUS USE</td>\n",
       "      <td>20.0</td>\n",
       "      <td>0.36</td>\n",
       "      <td>7.20</td>\n",
       "      <td>OE 5</td>\n",
       "      <td>Grant qeveritar</td>\n",
       "    </tr>\n",
       "    <tr>\n",
       "      <th>1</th>\n",
       "      <td>Spitali 4</td>\n",
       "      <td>Njesia e Gjinekologjisë me Obstetrikë</td>\n",
       "      <td>297/2024</td>\n",
       "      <td>Dalje</td>\n",
       "      <td>2024-02-16</td>\n",
       "      <td>B05XA03 - Natrium chloride  0.9%/500ml - Solut...</td>\n",
       "      <td>Barna</td>\n",
       "      <td>INTRAVENOUS USE</td>\n",
       "      <td>20.0</td>\n",
       "      <td>0.36</td>\n",
       "      <td>7.20</td>\n",
       "      <td>OE 5</td>\n",
       "      <td>Grant qeveritar</td>\n",
       "    </tr>\n",
       "    <tr>\n",
       "      <th>2</th>\n",
       "      <td>Spitali 4</td>\n",
       "      <td>Njesia e Gjinekologjisë me Obstetrikë</td>\n",
       "      <td>231/2024</td>\n",
       "      <td>Dalje</td>\n",
       "      <td>2024-02-06</td>\n",
       "      <td>G02AD06 - Misoprostol 200 mcg - Tabletë</td>\n",
       "      <td>Barna</td>\n",
       "      <td>//</td>\n",
       "      <td>42.0</td>\n",
       "      <td>0.28</td>\n",
       "      <td>11.76</td>\n",
       "      <td>OE 4</td>\n",
       "      <td>Grant qeveritar</td>\n",
       "    </tr>\n",
       "    <tr>\n",
       "      <th>3</th>\n",
       "      <td>Spitali 4</td>\n",
       "      <td>Njesia e Gjinekologjisë me Obstetrikë</td>\n",
       "      <td>538/2024</td>\n",
       "      <td>Dalje</td>\n",
       "      <td>2024-03-27</td>\n",
       "      <td>G02AD06 - Misoprostol 200 mcg - Tabletë</td>\n",
       "      <td>Barna</td>\n",
       "      <td>//</td>\n",
       "      <td>42.0</td>\n",
       "      <td>0.28</td>\n",
       "      <td>11.76</td>\n",
       "      <td>OE 4</td>\n",
       "      <td>Grant qeveritar</td>\n",
       "    </tr>\n",
       "    <tr>\n",
       "      <th>4</th>\n",
       "      <td>Spitali 4</td>\n",
       "      <td>Njesia e Gjinekologjisë me Obstetrikë</td>\n",
       "      <td>779/2024</td>\n",
       "      <td>Dalje</td>\n",
       "      <td>2024-05-02</td>\n",
       "      <td>S02BA06  - Dexamethasone  4mg/ml - Ampullë</td>\n",
       "      <td>Barna</td>\n",
       "      <td>INTRAMUSCULAR AND INTRAVENOUS USE</td>\n",
       "      <td>10.0</td>\n",
       "      <td>0.09</td>\n",
       "      <td>0.90</td>\n",
       "      <td>OE 28</td>\n",
       "      <td>Grant qeveritar</td>\n",
       "    </tr>\n",
       "    <tr>\n",
       "      <th>...</th>\n",
       "      <td>...</td>\n",
       "      <td>...</td>\n",
       "      <td>...</td>\n",
       "      <td>...</td>\n",
       "      <td>...</td>\n",
       "      <td>...</td>\n",
       "      <td>...</td>\n",
       "      <td>...</td>\n",
       "      <td>...</td>\n",
       "      <td>...</td>\n",
       "      <td>...</td>\n",
       "      <td>...</td>\n",
       "      <td>...</td>\n",
       "    </tr>\n",
       "    <tr>\n",
       "      <th>54156</th>\n",
       "      <td>Spitali 3</td>\n",
       "      <td>Njesia e Shëndetit Mendor</td>\n",
       "      <td>1598/2024</td>\n",
       "      <td>Dalje</td>\n",
       "      <td>2024-08-02</td>\n",
       "      <td>N06AB10 - Escitalopram 5mg - Format e forta orale</td>\n",
       "      <td>Barna</td>\n",
       "      <td>//</td>\n",
       "      <td>713.0</td>\n",
       "      <td>0.12</td>\n",
       "      <td>85.56</td>\n",
       "      <td>OE 63</td>\n",
       "      <td>Grant qeveritar</td>\n",
       "    </tr>\n",
       "    <tr>\n",
       "      <th>54157</th>\n",
       "      <td>Spitali 3</td>\n",
       "      <td>Njesia e Gjinekologjisë me Obstetrikë</td>\n",
       "      <td>2041/2024</td>\n",
       "      <td>Dalje</td>\n",
       "      <td>2024-09-16</td>\n",
       "      <td>D08AG02 - Povidon Jod 10% - Solution</td>\n",
       "      <td>Barna</td>\n",
       "      <td>Extern</td>\n",
       "      <td>24.0</td>\n",
       "      <td>3.39</td>\n",
       "      <td>81.36</td>\n",
       "      <td>OE 53</td>\n",
       "      <td>Grant qeveritar</td>\n",
       "    </tr>\n",
       "    <tr>\n",
       "      <th>54158</th>\n",
       "      <td>Spitali 3</td>\n",
       "      <td>Njesia e Gjinekologjisë me Obstetrikë</td>\n",
       "      <td>1820/2024</td>\n",
       "      <td>Dalje</td>\n",
       "      <td>2024-08-23</td>\n",
       "      <td>D08AG02 - Povidon Jod 10% - Solution</td>\n",
       "      <td>Barna</td>\n",
       "      <td>Extern</td>\n",
       "      <td>24.0</td>\n",
       "      <td>3.39</td>\n",
       "      <td>81.36</td>\n",
       "      <td>OE 53</td>\n",
       "      <td>Grant qeveritar</td>\n",
       "    </tr>\n",
       "    <tr>\n",
       "      <th>54159</th>\n",
       "      <td>Spitali 3</td>\n",
       "      <td>Njesia e Gjinekologjisë me Obstetrikë</td>\n",
       "      <td>2041/2024</td>\n",
       "      <td>Dalje</td>\n",
       "      <td>2024-09-16</td>\n",
       "      <td>B05XA03 - Natrium chloride  0.9% 500 ml izoton...</td>\n",
       "      <td>Barna</td>\n",
       "      <td>INTRAVENOUS USE</td>\n",
       "      <td>200.0</td>\n",
       "      <td>0.51</td>\n",
       "      <td>102.00</td>\n",
       "      <td>OE 5</td>\n",
       "      <td>Grant qeveritar</td>\n",
       "    </tr>\n",
       "    <tr>\n",
       "      <th>54160</th>\n",
       "      <td>Spitali 3</td>\n",
       "      <td>Njesia e Gjinekologjisë me Obstetrikë</td>\n",
       "      <td>1820/2024</td>\n",
       "      <td>Dalje</td>\n",
       "      <td>2024-08-23</td>\n",
       "      <td>B05XA03 - Natrium chloride  0.9% 500 ml izoton...</td>\n",
       "      <td>Barna</td>\n",
       "      <td>INTRAVENOUS USE</td>\n",
       "      <td>200.0</td>\n",
       "      <td>0.51</td>\n",
       "      <td>102.00</td>\n",
       "      <td>OE 5</td>\n",
       "      <td>Grant qeveritar</td>\n",
       "    </tr>\n",
       "  </tbody>\n",
       "</table>\n",
       "<p>54128 rows × 13 columns</p>\n",
       "</div>"
      ],
      "text/plain": [
       "         Spitali                          NjesiaReparti      Numri Shenim  \\\n",
       "0      Spitali 4  Njesia e Gjinekologjisë me Obstetrikë   125/2024  Dalje   \n",
       "1      Spitali 4  Njesia e Gjinekologjisë me Obstetrikë   297/2024  Dalje   \n",
       "2      Spitali 4  Njesia e Gjinekologjisë me Obstetrikë   231/2024  Dalje   \n",
       "3      Spitali 4  Njesia e Gjinekologjisë me Obstetrikë   538/2024  Dalje   \n",
       "4      Spitali 4  Njesia e Gjinekologjisë me Obstetrikë   779/2024  Dalje   \n",
       "...          ...                                    ...        ...    ...   \n",
       "54156  Spitali 3              Njesia e Shëndetit Mendor  1598/2024  Dalje   \n",
       "54157  Spitali 3  Njesia e Gjinekologjisë me Obstetrikë  2041/2024  Dalje   \n",
       "54158  Spitali 3  Njesia e Gjinekologjisë me Obstetrikë  1820/2024  Dalje   \n",
       "54159  Spitali 3  Njesia e Gjinekologjisë me Obstetrikë  2041/2024  Dalje   \n",
       "54160  Spitali 3  Njesia e Gjinekologjisë me Obstetrikë  1820/2024  Dalje   \n",
       "\n",
       "      DataRegjistrimit                                          Artikulli  \\\n",
       "0           2024-01-23  B05XA03 - Natrium chloride  0.9%/500ml - Solut...   \n",
       "1           2024-02-16  B05XA03 - Natrium chloride  0.9%/500ml - Solut...   \n",
       "2           2024-02-06            G02AD06 - Misoprostol 200 mcg - Tabletë   \n",
       "3           2024-03-27            G02AD06 - Misoprostol 200 mcg - Tabletë   \n",
       "4           2024-05-02         S02BA06  - Dexamethasone  4mg/ml - Ampullë   \n",
       "...                ...                                                ...   \n",
       "54156       2024-08-02  N06AB10 - Escitalopram 5mg - Format e forta orale   \n",
       "54157       2024-09-16               D08AG02 - Povidon Jod 10% - Solution   \n",
       "54158       2024-08-23               D08AG02 - Povidon Jod 10% - Solution   \n",
       "54159       2024-09-16  B05XA03 - Natrium chloride  0.9% 500 ml izoton...   \n",
       "54160       2024-08-23  B05XA03 - Natrium chloride  0.9% 500 ml izoton...   \n",
       "\n",
       "      ArtikulliLloji                       RrugaMarrjes  Sasia  Cmimi   Vlera  \\\n",
       "0              Barna                    INTRAVENOUS USE   20.0   0.36    7.20   \n",
       "1              Barna                    INTRAVENOUS USE   20.0   0.36    7.20   \n",
       "2              Barna                                 //   42.0   0.28   11.76   \n",
       "3              Barna                                 //   42.0   0.28   11.76   \n",
       "4              Barna  INTRAMUSCULAR AND INTRAVENOUS USE   10.0   0.09    0.90   \n",
       "...              ...                                ...    ...    ...     ...   \n",
       "54156          Barna                                 //  713.0   0.12   85.56   \n",
       "54157          Barna                             Extern   24.0   3.39   81.36   \n",
       "54158          Barna                             Extern   24.0   3.39   81.36   \n",
       "54159          Barna                    INTRAVENOUS USE  200.0   0.51  102.00   \n",
       "54160          Barna                    INTRAVENOUS USE  200.0   0.51  102.00   \n",
       "\n",
       "      OperatoriEkonomik      LlojiHyrjes  \n",
       "0                  OE 5  Grant qeveritar  \n",
       "1                  OE 5  Grant qeveritar  \n",
       "2                  OE 4  Grant qeveritar  \n",
       "3                  OE 4  Grant qeveritar  \n",
       "4                 OE 28  Grant qeveritar  \n",
       "...                 ...              ...  \n",
       "54156             OE 63  Grant qeveritar  \n",
       "54157             OE 53  Grant qeveritar  \n",
       "54158             OE 53  Grant qeveritar  \n",
       "54159              OE 5  Grant qeveritar  \n",
       "54160              OE 5  Grant qeveritar  \n",
       "\n",
       "[54128 rows x 13 columns]"
      ]
     },
     "metadata": {},
     "output_type": "display_data"
    }
   ],
   "source": [
    "# Emrat e kolonave që duhet të jenë jo-null\n",
    "columns_to_check = ['Sasia', 'Cmimi', 'Vlera']\n",
    "\n",
    "# Fshij rreshtat që kanë vlera NULL në ndonjë nga kolonat e listuara\n",
    "dataset_kryesor = dataset_kryesor.dropna(subset=columns_to_check)\n",
    "\n",
    "# Shfaq datasetin e pastruar\n",
    "display(dataset_kryesor)\n"
   ]
  },
  {
   "cell_type": "markdown",
   "metadata": {},
   "source": [
    "#### Reduktimi i dimensionalitetit të dataset_kryesor me largimin e kolonave që nuk duhen për analizë të mëtejshme."
   ]
  },
  {
   "cell_type": "code",
   "execution_count": null,
   "metadata": {},
   "outputs": [
    {
     "data": {
      "text/html": [
       "<div>\n",
       "<style scoped>\n",
       "    .dataframe tbody tr th:only-of-type {\n",
       "        vertical-align: middle;\n",
       "    }\n",
       "\n",
       "    .dataframe tbody tr th {\n",
       "        vertical-align: top;\n",
       "    }\n",
       "\n",
       "    .dataframe thead th {\n",
       "        text-align: right;\n",
       "    }\n",
       "</style>\n",
       "<table border=\"1\" class=\"dataframe\">\n",
       "  <thead>\n",
       "    <tr style=\"text-align: right;\">\n",
       "      <th></th>\n",
       "      <th>Spitali</th>\n",
       "      <th>NjesiaReparti</th>\n",
       "      <th>Artikulli</th>\n",
       "      <th>ArtikulliLloji</th>\n",
       "      <th>Sasia</th>\n",
       "      <th>Cmimi</th>\n",
       "      <th>Vlera</th>\n",
       "      <th>OperatoriEkonomik</th>\n",
       "      <th>LlojiHyrjes</th>\n",
       "      <th>Z_Score</th>\n",
       "    </tr>\n",
       "  </thead>\n",
       "  <tbody>\n",
       "    <tr>\n",
       "      <th>0</th>\n",
       "      <td>Spitali 4</td>\n",
       "      <td>Njesia e Gjinekologjisë me Obstetrikë</td>\n",
       "      <td>B05XA03 - Natrium chloride  0.9%/500ml - Solut...</td>\n",
       "      <td>Barna</td>\n",
       "      <td>20.0</td>\n",
       "      <td>0.36</td>\n",
       "      <td>7.20</td>\n",
       "      <td>OE 5</td>\n",
       "      <td>Grant qeveritar</td>\n",
       "      <td>0.059216</td>\n",
       "    </tr>\n",
       "    <tr>\n",
       "      <th>1</th>\n",
       "      <td>Spitali 4</td>\n",
       "      <td>Njesia e Gjinekologjisë me Obstetrikë</td>\n",
       "      <td>B05XA03 - Natrium chloride  0.9%/500ml - Solut...</td>\n",
       "      <td>Barna</td>\n",
       "      <td>20.0</td>\n",
       "      <td>0.36</td>\n",
       "      <td>7.20</td>\n",
       "      <td>OE 5</td>\n",
       "      <td>Grant qeveritar</td>\n",
       "      <td>0.059216</td>\n",
       "    </tr>\n",
       "    <tr>\n",
       "      <th>2</th>\n",
       "      <td>Spitali 4</td>\n",
       "      <td>Njesia e Gjinekologjisë me Obstetrikë</td>\n",
       "      <td>G02AD06 - Misoprostol 200 mcg - Tabletë</td>\n",
       "      <td>Barna</td>\n",
       "      <td>42.0</td>\n",
       "      <td>0.28</td>\n",
       "      <td>11.76</td>\n",
       "      <td>OE 4</td>\n",
       "      <td>Grant qeveritar</td>\n",
       "      <td>0.058912</td>\n",
       "    </tr>\n",
       "    <tr>\n",
       "      <th>3</th>\n",
       "      <td>Spitali 4</td>\n",
       "      <td>Njesia e Gjinekologjisë me Obstetrikë</td>\n",
       "      <td>G02AD06 - Misoprostol 200 mcg - Tabletë</td>\n",
       "      <td>Barna</td>\n",
       "      <td>42.0</td>\n",
       "      <td>0.28</td>\n",
       "      <td>11.76</td>\n",
       "      <td>OE 4</td>\n",
       "      <td>Grant qeveritar</td>\n",
       "      <td>0.058912</td>\n",
       "    </tr>\n",
       "    <tr>\n",
       "      <th>4</th>\n",
       "      <td>Spitali 4</td>\n",
       "      <td>Njesia e Gjinekologjisë me Obstetrikë</td>\n",
       "      <td>S02BA06  - Dexamethasone  4mg/ml - Ampullë</td>\n",
       "      <td>Barna</td>\n",
       "      <td>10.0</td>\n",
       "      <td>0.09</td>\n",
       "      <td>0.90</td>\n",
       "      <td>OE 28</td>\n",
       "      <td>Grant qeveritar</td>\n",
       "      <td>0.059635</td>\n",
       "    </tr>\n",
       "  </tbody>\n",
       "</table>\n",
       "</div>"
      ],
      "text/plain": [
       "     Spitali                          NjesiaReparti  \\\n",
       "0  Spitali 4  Njesia e Gjinekologjisë me Obstetrikë   \n",
       "1  Spitali 4  Njesia e Gjinekologjisë me Obstetrikë   \n",
       "2  Spitali 4  Njesia e Gjinekologjisë me Obstetrikë   \n",
       "3  Spitali 4  Njesia e Gjinekologjisë me Obstetrikë   \n",
       "4  Spitali 4  Njesia e Gjinekologjisë me Obstetrikë   \n",
       "\n",
       "                                           Artikulli ArtikulliLloji  Sasia  \\\n",
       "0  B05XA03 - Natrium chloride  0.9%/500ml - Solut...          Barna   20.0   \n",
       "1  B05XA03 - Natrium chloride  0.9%/500ml - Solut...          Barna   20.0   \n",
       "2            G02AD06 - Misoprostol 200 mcg - Tabletë          Barna   42.0   \n",
       "3            G02AD06 - Misoprostol 200 mcg - Tabletë          Barna   42.0   \n",
       "4         S02BA06  - Dexamethasone  4mg/ml - Ampullë          Barna   10.0   \n",
       "\n",
       "   Cmimi  Vlera OperatoriEkonomik      LlojiHyrjes   Z_Score  \n",
       "0   0.36   7.20              OE 5  Grant qeveritar  0.059216  \n",
       "1   0.36   7.20              OE 5  Grant qeveritar  0.059216  \n",
       "2   0.28  11.76              OE 4  Grant qeveritar  0.058912  \n",
       "3   0.28  11.76              OE 4  Grant qeveritar  0.058912  \n",
       "4   0.09   0.90             OE 28  Grant qeveritar  0.059635  "
      ]
     },
     "execution_count": 46,
     "metadata": {},
     "output_type": "execute_result"
    }
   ],
   "source": [
    "# atributet qe do te largohen nga dataset\n",
    "kolonat_per_fshirje = ['Numri','Shenim','DataRegjistrimit', 'RrugaMarrjes'\n",
    "                   ]\n",
    "dataset_kryesor= dataset_kryesor.drop(columns=kolonat_per_fshirje,axis=1)\n",
    "dataset_kryesor.head()\n",
    "# display(dataset_kryesor)"
   ]
  },
  {
   "cell_type": "markdown",
   "metadata": {},
   "source": [
    "#### Paraqitja e dataset kryesor pas ndryshimit ne renditje te kolonave"
   ]
  },
  {
   "cell_type": "code",
   "execution_count": 47,
   "metadata": {},
   "outputs": [
    {
     "data": {
      "text/html": [
       "<div>\n",
       "<style scoped>\n",
       "    .dataframe tbody tr th:only-of-type {\n",
       "        vertical-align: middle;\n",
       "    }\n",
       "\n",
       "    .dataframe tbody tr th {\n",
       "        vertical-align: top;\n",
       "    }\n",
       "\n",
       "    .dataframe thead th {\n",
       "        text-align: right;\n",
       "    }\n",
       "</style>\n",
       "<table border=\"1\" class=\"dataframe\">\n",
       "  <thead>\n",
       "    <tr style=\"text-align: right;\">\n",
       "      <th></th>\n",
       "      <th>Spitali</th>\n",
       "      <th>NjesiaReparti</th>\n",
       "      <th>LlojiHyrjes</th>\n",
       "      <th>OperatoriEkonomik</th>\n",
       "      <th>ArtikulliLloji</th>\n",
       "      <th>Artikulli</th>\n",
       "      <th>Sasia</th>\n",
       "      <th>Cmimi</th>\n",
       "      <th>Vlera</th>\n",
       "    </tr>\n",
       "  </thead>\n",
       "  <tbody>\n",
       "    <tr>\n",
       "      <th>0</th>\n",
       "      <td>Spitali 4</td>\n",
       "      <td>Njesia e Gjinekologjisë me Obstetrikë</td>\n",
       "      <td>Grant qeveritar</td>\n",
       "      <td>OE 5</td>\n",
       "      <td>Barna</td>\n",
       "      <td>B05XA03 - Natrium chloride  0.9%/500ml - Solut...</td>\n",
       "      <td>20.0</td>\n",
       "      <td>0.36</td>\n",
       "      <td>7.20</td>\n",
       "    </tr>\n",
       "    <tr>\n",
       "      <th>1</th>\n",
       "      <td>Spitali 4</td>\n",
       "      <td>Njesia e Gjinekologjisë me Obstetrikë</td>\n",
       "      <td>Grant qeveritar</td>\n",
       "      <td>OE 5</td>\n",
       "      <td>Barna</td>\n",
       "      <td>B05XA03 - Natrium chloride  0.9%/500ml - Solut...</td>\n",
       "      <td>20.0</td>\n",
       "      <td>0.36</td>\n",
       "      <td>7.20</td>\n",
       "    </tr>\n",
       "    <tr>\n",
       "      <th>2</th>\n",
       "      <td>Spitali 4</td>\n",
       "      <td>Njesia e Gjinekologjisë me Obstetrikë</td>\n",
       "      <td>Grant qeveritar</td>\n",
       "      <td>OE 4</td>\n",
       "      <td>Barna</td>\n",
       "      <td>G02AD06 - Misoprostol 200 mcg - Tabletë</td>\n",
       "      <td>42.0</td>\n",
       "      <td>0.28</td>\n",
       "      <td>11.76</td>\n",
       "    </tr>\n",
       "    <tr>\n",
       "      <th>3</th>\n",
       "      <td>Spitali 4</td>\n",
       "      <td>Njesia e Gjinekologjisë me Obstetrikë</td>\n",
       "      <td>Grant qeveritar</td>\n",
       "      <td>OE 4</td>\n",
       "      <td>Barna</td>\n",
       "      <td>G02AD06 - Misoprostol 200 mcg - Tabletë</td>\n",
       "      <td>42.0</td>\n",
       "      <td>0.28</td>\n",
       "      <td>11.76</td>\n",
       "    </tr>\n",
       "    <tr>\n",
       "      <th>4</th>\n",
       "      <td>Spitali 4</td>\n",
       "      <td>Njesia e Gjinekologjisë me Obstetrikë</td>\n",
       "      <td>Grant qeveritar</td>\n",
       "      <td>OE 28</td>\n",
       "      <td>Barna</td>\n",
       "      <td>S02BA06  - Dexamethasone  4mg/ml - Ampullë</td>\n",
       "      <td>10.0</td>\n",
       "      <td>0.09</td>\n",
       "      <td>0.90</td>\n",
       "    </tr>\n",
       "  </tbody>\n",
       "</table>\n",
       "</div>"
      ],
      "text/plain": [
       "     Spitali                          NjesiaReparti      LlojiHyrjes  \\\n",
       "0  Spitali 4  Njesia e Gjinekologjisë me Obstetrikë  Grant qeveritar   \n",
       "1  Spitali 4  Njesia e Gjinekologjisë me Obstetrikë  Grant qeveritar   \n",
       "2  Spitali 4  Njesia e Gjinekologjisë me Obstetrikë  Grant qeveritar   \n",
       "3  Spitali 4  Njesia e Gjinekologjisë me Obstetrikë  Grant qeveritar   \n",
       "4  Spitali 4  Njesia e Gjinekologjisë me Obstetrikë  Grant qeveritar   \n",
       "\n",
       "  OperatoriEkonomik ArtikulliLloji  \\\n",
       "0              OE 5          Barna   \n",
       "1              OE 5          Barna   \n",
       "2              OE 4          Barna   \n",
       "3              OE 4          Barna   \n",
       "4             OE 28          Barna   \n",
       "\n",
       "                                           Artikulli  Sasia  Cmimi  Vlera  \n",
       "0  B05XA03 - Natrium chloride  0.9%/500ml - Solut...   20.0   0.36   7.20  \n",
       "1  B05XA03 - Natrium chloride  0.9%/500ml - Solut...   20.0   0.36   7.20  \n",
       "2            G02AD06 - Misoprostol 200 mcg - Tabletë   42.0   0.28  11.76  \n",
       "3            G02AD06 - Misoprostol 200 mcg - Tabletë   42.0   0.28  11.76  \n",
       "4         S02BA06  - Dexamethasone  4mg/ml - Ampullë   10.0   0.09   0.90  "
      ]
     },
     "execution_count": 47,
     "metadata": {},
     "output_type": "execute_result"
    }
   ],
   "source": [
    "# Caktimi i renditjes së kolonave në dataset\n",
    "column_order = ['Spitali','NjesiaReparti','LlojiHyrjes','OperatoriEkonomik','ArtikulliLloji','Artikulli', 'Sasia','Cmimi','Vlera']\n",
    "# Riorganizon dataset-in sipas renditjes së përcaktuar të kolonave\n",
    "dataset_kryesor = dataset_kryesor[column_order]\n",
    "# Shfaq disa rreshta për të parë ndryshimet\n",
    "dataset_kryesor.head()"
   ]
  }
 ],
 "metadata": {
  "kernelspec": {
   "display_name": "Python 3",
   "language": "python",
   "name": "python3"
  },
  "language_info": {
   "codemirror_mode": {
    "name": "ipython",
    "version": 3
   },
   "file_extension": ".py",
   "mimetype": "text/x-python",
   "name": "python",
   "nbconvert_exporter": "python",
   "pygments_lexer": "ipython3",
   "version": "3.13.2"
  }
 },
 "nbformat": 4,
 "nbformat_minor": 2
}
